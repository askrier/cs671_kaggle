{
 "cells": [
  {
   "cell_type": "markdown",
   "id": "758939c2",
   "metadata": {},
   "source": [
    "# Decision Tree Model"
   ]
  },
  {
   "cell_type": "markdown",
   "id": "ad185296",
   "metadata": {},
   "source": [
    "### Imports"
   ]
  },
  {
   "cell_type": "code",
   "execution_count": 1,
   "id": "861000fd",
   "metadata": {},
   "outputs": [
    {
     "name": "stdout",
     "output_type": "stream",
     "text": [
      "Requirement already satisfied: graphviz in /Applications/anaconda3/lib/python3.7/site-packages (0.17)\n",
      "Requirement already satisfied: dl8.5 in /Applications/anaconda3/lib/python3.7/site-packages (0.0.15)\n",
      "Requirement already satisfied: scikit-learn in /Applications/anaconda3/lib/python3.7/site-packages (from dl8.5) (0.24.2)\n",
      "Requirement already satisfied: setuptools in /Applications/anaconda3/lib/python3.7/site-packages (from dl8.5) (58.0.4)\n",
      "Requirement already satisfied: cython in /Applications/anaconda3/lib/python3.7/site-packages (from dl8.5) (0.29.24)\n",
      "Requirement already satisfied: numpy in /Applications/anaconda3/lib/python3.7/site-packages (from dl8.5) (1.21.2)\n",
      "Requirement already satisfied: scipy>=0.19.1 in /Applications/anaconda3/lib/python3.7/site-packages (from scikit-learn->dl8.5) (1.7.1)\n",
      "Requirement already satisfied: joblib>=0.11 in /Applications/anaconda3/lib/python3.7/site-packages (from scikit-learn->dl8.5) (1.0.1)\n",
      "Requirement already satisfied: threadpoolctl>=2.0.0 in /Applications/anaconda3/lib/python3.7/site-packages (from scikit-learn->dl8.5) (2.2.0)\n",
      "Requirement already satisfied: chefboost in /Applications/anaconda3/lib/python3.7/site-packages (0.0.13)\n",
      "Requirement already satisfied: numpy>=1.14.0 in /Applications/anaconda3/lib/python3.7/site-packages (from chefboost) (1.21.2)\n",
      "Requirement already satisfied: psutil>=5.4.3 in /Applications/anaconda3/lib/python3.7/site-packages (from chefboost) (5.8.0)\n",
      "Requirement already satisfied: tqdm>=4.30.0 in /Applications/anaconda3/lib/python3.7/site-packages (from chefboost) (4.62.2)\n",
      "Requirement already satisfied: pandas>=0.22.0 in /Applications/anaconda3/lib/python3.7/site-packages (from chefboost) (1.3.3)\n",
      "Requirement already satisfied: python-dateutil>=2.7.3 in /Applications/anaconda3/lib/python3.7/site-packages (from pandas>=0.22.0->chefboost) (2.8.2)\n",
      "Requirement already satisfied: pytz>=2017.3 in /Applications/anaconda3/lib/python3.7/site-packages (from pandas>=0.22.0->chefboost) (2021.3)\n",
      "Requirement already satisfied: six>=1.5 in /Applications/anaconda3/lib/python3.7/site-packages (from python-dateutil>=2.7.3->pandas>=0.22.0->chefboost) (1.16.0)\n"
     ]
    }
   ],
   "source": [
    "! pip install graphviz\n",
    "! pip install dl8.5\n",
    "! pip install chefboost"
   ]
  },
  {
   "cell_type": "code",
   "execution_count": 10,
   "id": "f72be916",
   "metadata": {},
   "outputs": [
    {
     "name": "stdout",
     "output_type": "stream",
     "text": [
      "Requirement already satisfied: graphviz in /Applications/anaconda3/lib/python3.7/site-packages (0.17)\r\n"
     ]
    }
   ],
   "source": [
    "import numpy as np\n",
    "import pandas as pd\n",
    "import matplotlib.pyplot as plt\n",
    "import time as t\n",
    "\n",
    "! pip install graphviz\n",
    "\n",
    "from IPython.display import SVG\n",
    "from graphviz import Source\n",
    "\n",
    "from sklearn import tree\n",
    "from sklearn.model_selection import KFold\n",
    "from sklearn.metrics import classification_report"
   ]
  },
  {
   "cell_type": "markdown",
   "id": "717d1b30",
   "metadata": {},
   "source": [
    "### Helper Functions"
   ]
  },
  {
   "cell_type": "code",
   "execution_count": 3,
   "id": "dcb96c55",
   "metadata": {},
   "outputs": [],
   "source": [
    "def accuracy(y_actual, y_predicted):\n",
    "    if(not len(y_actual) == len(y_predicted)):\n",
    "        print(\"Lengths don't match\")\n",
    "        return 0\n",
    "    correct = 0\n",
    "    for i in range(len(y_actual)):\n",
    "        if y_actual[i] == y_predicted[i]:\n",
    "            correct += 1\n",
    "    return 1.0 * correct / len(y_actual)\n",
    "\n",
    "def clean_df(df):\n",
    "    for (field, vals) in df.iteritems():\n",
    "#         print(\"{:} | {:}\".format(field, type(vals[0])))\n",
    "        if type(vals[0]) == str:\n",
    "            strings = []\n",
    "            for s_ind in vals.index:\n",
    "                if vals[s_ind] not in strings:\n",
    "                    strings += [vals[s_ind]]\n",
    "                df.at[s_ind, field] = strings.index(vals[s_ind])\n",
    "#             print(strings)\n",
    "    return df"
   ]
  },
  {
   "cell_type": "markdown",
   "id": "1af8ff64",
   "metadata": {},
   "source": [
    "### Data Importing and Processing"
   ]
  },
  {
   "cell_type": "code",
   "execution_count": 4,
   "id": "d7cdaaec",
   "metadata": {},
   "outputs": [],
   "source": [
    "df = pd.read_csv(\"../data/train.csv\")\n",
    "df_test = pd.read_csv(\"../data/test.csv\")\n",
    "\n",
    "# print(df)"
   ]
  },
  {
   "cell_type": "markdown",
   "id": "6a1cb59c",
   "metadata": {},
   "source": [
    "### Data Processing"
   ]
  },
  {
   "cell_type": "code",
   "execution_count": 5,
   "id": "b4620b69",
   "metadata": {},
   "outputs": [],
   "source": [
    "# Remove NaN Columns\n",
    "\n",
    "df = df.dropna()\n",
    "df_test = df_test.dropna()\n",
    "\n",
    "# Make string values into numbers\n",
    "\n",
    "clean_df(df)\n",
    "clean_df(df_test)\n",
    "\n",
    "# Not 10 like normal since we already have a test partition\n",
    "num_folds = 9 \n",
    "\n",
    "cv_length = 1.0 * df.shape[0] / num_folds\n",
    "\n",
    "partitions = [df.iloc[int(i * cv_length):int((i+1) * cv_length),:] for i in range(num_folds)]\n",
    "# print([len(partitions[i]) for i in range(len(partitions))])\n"
   ]
  },
  {
   "cell_type": "markdown",
   "id": "f12f486a",
   "metadata": {},
   "source": [
    "### Model"
   ]
  },
  {
   "cell_type": "code",
   "execution_count": 6,
   "id": "a6d3b9cf",
   "metadata": {},
   "outputs": [
    {
     "name": "stdout",
     "output_type": "stream",
     "text": [
      "For depth   1: Avg: 0.651668 | Min: 0.625812 | Max 0.680297\n",
      "For depth   2: Avg: 0.656211 | Min: 0.626741 | Max 0.688662\n",
      "For depth   3: Avg: 0.652908 | Min: 0.623027 | Max 0.680297\n",
      "For depth   4: Avg: 0.653837 | Min: 0.628598 | Max 0.683086\n",
      "For depth   5: Avg: 0.653318 | Min: 0.620818 | Max 0.676880\n",
      "For depth   6: Avg: 0.653011 | Min: 0.629526 | Max 0.686803\n",
      "For depth   7: Avg: 0.653321 | Min: 0.632312 | Max 0.684015\n",
      "For depth   8: Avg: 0.654351 | Min: 0.628598 | Max 0.675651\n",
      "For depth   9: Avg: 0.654869 | Min: 0.632312 | Max 0.684015\n",
      "For depth  10: Avg: 0.651152 | Min: 0.624884 | Max 0.676580\n",
      "For depth  11: Avg: 0.652597 | Min: 0.622098 | Max 0.675651\n",
      "For depth  12: Avg: 0.657860 | Min: 0.629526 | Max 0.689591\n",
      "For depth  13: Avg: 0.654249 | Min: 0.632312 | Max 0.677509\n",
      "For depth  14: Avg: 0.651152 | Min: 0.623027 | Max 0.681227\n",
      "For depth  15: Avg: 0.652184 | Min: 0.625812 | Max 0.680297\n",
      "For depth  16: Avg: 0.652598 | Min: 0.620241 | Max 0.696097\n",
      "For depth  17: Avg: 0.654559 | Min: 0.631383 | Max 0.688662\n",
      "For depth  18: Avg: 0.654970 | Min: 0.627669 | Max 0.676880\n",
      "For depth  19: Avg: 0.652287 | Min: 0.629526 | Max 0.686803\n",
      "For depth  20: Avg: 0.651977 | Min: 0.619888 | Max 0.684015\n",
      "For depth  21: Avg: 0.654250 | Min: 0.626741 | Max 0.690520\n",
      "For depth  22: Avg: 0.652391 | Min: 0.627669 | Max 0.679368\n",
      "For depth  23: Avg: 0.652495 | Min: 0.619313 | Max 0.681227\n",
      "For depth  24: Avg: 0.652390 | Min: 0.620241 | Max 0.682156\n",
      "For depth  25: Avg: 0.657139 | Min: 0.625812 | Max 0.687732\n",
      "For depth  26: Avg: 0.651977 | Min: 0.631970 | Max 0.674721\n",
      "For depth  27: Avg: 0.651875 | Min: 0.627669 | Max 0.680297\n",
      "For depth  28: Avg: 0.653010 | Min: 0.617456 | Max 0.693309\n",
      "For depth  29: Avg: 0.656727 | Min: 0.633240 | Max 0.684015\n",
      "For depth  30: Avg: 0.656727 | Min: 0.629526 | Max 0.680297\n",
      "For depth  31: Avg: 0.652907 | Min: 0.626394 | Max 0.687732\n",
      "For depth  32: Avg: 0.653011 | Min: 0.626741 | Max 0.684944\n",
      "For depth  33: Avg: 0.652598 | Min: 0.629526 | Max 0.686803\n",
      "For depth  34: Avg: 0.649915 | Min: 0.624884 | Max 0.676580\n",
      "For depth  35: Avg: 0.655486 | Min: 0.628598 | Max 0.674095\n",
      "For depth  36: Avg: 0.655590 | Min: 0.627323 | Max 0.693309\n",
      "For depth  37: Avg: 0.650533 | Min: 0.629526 | Max 0.672862\n",
      "For depth  38: Avg: 0.654765 | Min: 0.623027 | Max 0.682156\n",
      "For depth  39: Avg: 0.653629 | Min: 0.628598 | Max 0.679368\n",
      "For depth  40: Avg: 0.654765 | Min: 0.626394 | Max 0.686803\n",
      "For depth  41: Avg: 0.653217 | Min: 0.626741 | Max 0.683086\n",
      "For depth  42: Avg: 0.654662 | Min: 0.625812 | Max 0.694238\n",
      "For depth  43: Avg: 0.656315 | Min: 0.629526 | Max 0.696097\n",
      "For depth  44: Avg: 0.650947 | Min: 0.619313 | Max 0.689591\n",
      "For depth  45: Avg: 0.652392 | Min: 0.623027 | Max 0.695167\n",
      "For depth  46: Avg: 0.653011 | Min: 0.619313 | Max 0.695167\n",
      "For depth  47: Avg: 0.650121 | Min: 0.628598 | Max 0.676580\n",
      "For depth  48: Avg: 0.654250 | Min: 0.613742 | Max 0.684015\n",
      "For depth  49: Avg: 0.650740 | Min: 0.625812 | Max 0.680297\n",
      "Optimal max tree depth: 12\n"
     ]
    }
   ],
   "source": [
    "# Rotate the folds to tune the parameters\n",
    "\n",
    "results = []\n",
    "max_tree_depths = range(1, 50)\n",
    "\n",
    "for i in range(num_folds):\n",
    "    validation = partitions[i]\n",
    "    training = pd.concat([j for j in partitions if not j.equals(validation)])\n",
    "    \n",
    "    y_train = training['Decision']\n",
    "    X_train = training.loc[:, df.columns != 'Decision']\n",
    "    \n",
    "    y_valid = validation['Decision']\n",
    "    X_valid = validation.loc[:, df.columns != 'Decision']\n",
    "    \n",
    "    results_for_fold = []\n",
    "    \n",
    "    for d in max_tree_depths:\n",
    "        clf = tree.DecisionTreeClassifier()\n",
    "        clf.criterion = 'entropy'\n",
    "        clf.max_tree_depth = d\n",
    "        clf.fit(X_train, y_train)\n",
    "#         print(\"Prediction\", clf.predict(X_valid))\n",
    "#         print(\"Actual\", np.array(y_valid))\n",
    "        a = accuracy(np.array(y_valid), clf.predict(X_valid))\n",
    "        results_for_fold += [a]\n",
    "#         print(\"Accuracy for depth {:} in fold {:} is {:}\".format(d, i, a))\n",
    "    \n",
    "    results += [results_for_fold]\n",
    "\n",
    "# print(results)\n",
    "\n",
    "results_for_d = np.array(results).T\n",
    "\n",
    "# print(results_for_d)\n",
    "\n",
    "min_acc = []\n",
    "max_acc = []\n",
    "avg_acc = []\n",
    "\n",
    "for ind_d in range(len(max_tree_depths)):\n",
    "    min_acc += [np.min(results_for_d[ind_d])]\n",
    "    max_acc += [np.max(results_for_d[ind_d])]\n",
    "    avg_acc += [np.mean(results_for_d[ind_d])]\n",
    "    print(\"For depth {:3d}: Avg: {:4f} | Min: {:4f} | Max {:4f}\".format(max_tree_depths[ind_d], avg_acc[ind_d], min_acc[ind_d], max_acc[ind_d]))\n",
    "        \n",
    "optimal_depth = max_tree_depths[avg_acc.index(np.max(avg_acc))]\n",
    "print(\"Optimal max tree depth:\", optimal_depth)\n"
   ]
  },
  {
   "cell_type": "markdown",
   "id": "1ef40748",
   "metadata": {},
   "source": [
    "### Test"
   ]
  },
  {
   "cell_type": "code",
   "execution_count": 7,
   "id": "9b7e1ad6",
   "metadata": {},
   "outputs": [],
   "source": [
    "X_test = df_test.loc[:, df_test.columns != 'Decision']\n",
    "\n",
    "y_train = df['Decision']\n",
    "X_train = df.loc[:, df.columns != 'Decision']\n",
    "\n",
    "clf = tree.DecisionTreeClassifier()\n",
    "clf.criterion = 'entropy'\n",
    "clf.max_tree_depth = optimal_depth\n",
    "\n",
    "clf.fit(X_train, y_train)\n",
    "results = clf.predict(X_test)"
   ]
  },
  {
   "cell_type": "markdown",
   "id": "a5952e29",
   "metadata": {},
   "source": [
    "### Format for Output"
   ]
  },
  {
   "cell_type": "code",
   "execution_count": 8,
   "id": "88340553",
   "metadata": {},
   "outputs": [
    {
     "name": "stdout",
     "output_type": "stream",
     "text": [
      "        id  Decision\n",
      "0        1         0\n",
      "1        2         1\n",
      "2        3         0\n",
      "3        4         1\n",
      "4        5         1\n",
      "...    ...       ...\n",
      "2495  2496         1\n",
      "2496  2497         0\n",
      "2497  2498         0\n",
      "2498  2499         1\n",
      "2499  2500         0\n",
      "\n",
      "[2390 rows x 2 columns]\n"
     ]
    }
   ],
   "source": [
    "df_test['Decision'] = results\n",
    "df_test = df_test[['id', 'Decision']]\n",
    "print(df_test)\n",
    "\n",
    "df_test.to_csv(r\"../data/decision_tree_results.csv\", index = False)"
   ]
  },
  {
   "cell_type": "code",
   "execution_count": null,
   "id": "e78f847c",
   "metadata": {},
   "outputs": [],
   "source": []
  }
 ],
 "metadata": {
  "kernelspec": {
   "display_name": "Python 3 (ipykernel)",
   "language": "python",
   "name": "python3"
  },
  "language_info": {
   "codemirror_mode": {
    "name": "ipython",
    "version": 3
   },
   "file_extension": ".py",
   "mimetype": "text/x-python",
   "name": "python",
   "nbconvert_exporter": "python",
   "pygments_lexer": "ipython3",
   "version": "3.7.4"
  }
 },
 "nbformat": 4,
 "nbformat_minor": 5
}
