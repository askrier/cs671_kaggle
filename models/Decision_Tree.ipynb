{
 "cells": [
  {
   "cell_type": "markdown",
   "id": "758939c2",
   "metadata": {},
   "source": [
    "# Decision Tree Model"
   ]
  },
  {
   "cell_type": "markdown",
   "id": "ad185296",
   "metadata": {},
   "source": [
    "### Imports"
   ]
  },
  {
   "cell_type": "code",
   "execution_count": 1,
   "id": "861000fd",
   "metadata": {},
   "outputs": [
    {
     "name": "stdout",
     "output_type": "stream",
     "text": [
      "Requirement already satisfied: graphviz in /Applications/anaconda3/lib/python3.7/site-packages (0.17)\n",
      "Requirement already satisfied: dl8.5 in /Applications/anaconda3/lib/python3.7/site-packages (0.0.15)\n",
      "Requirement already satisfied: scikit-learn in /Applications/anaconda3/lib/python3.7/site-packages (from dl8.5) (0.24.2)\n",
      "Requirement already satisfied: numpy in /Applications/anaconda3/lib/python3.7/site-packages (from dl8.5) (1.21.2)\n",
      "Requirement already satisfied: setuptools in /Applications/anaconda3/lib/python3.7/site-packages (from dl8.5) (58.0.4)\n",
      "Requirement already satisfied: cython in /Applications/anaconda3/lib/python3.7/site-packages (from dl8.5) (0.29.24)\n",
      "Requirement already satisfied: joblib>=0.11 in /Applications/anaconda3/lib/python3.7/site-packages (from scikit-learn->dl8.5) (1.0.1)\n",
      "Requirement already satisfied: scipy>=0.19.1 in /Applications/anaconda3/lib/python3.7/site-packages (from scikit-learn->dl8.5) (1.7.1)\n",
      "Requirement already satisfied: threadpoolctl>=2.0.0 in /Applications/anaconda3/lib/python3.7/site-packages (from scikit-learn->dl8.5) (2.2.0)\n",
      "Requirement already satisfied: chefboost in /Applications/anaconda3/lib/python3.7/site-packages (0.0.13)\n",
      "Requirement already satisfied: psutil>=5.4.3 in /Applications/anaconda3/lib/python3.7/site-packages (from chefboost) (5.8.0)\n",
      "Requirement already satisfied: numpy>=1.14.0 in /Applications/anaconda3/lib/python3.7/site-packages (from chefboost) (1.21.2)\n",
      "Requirement already satisfied: tqdm>=4.30.0 in /Applications/anaconda3/lib/python3.7/site-packages (from chefboost) (4.62.2)\n",
      "Requirement already satisfied: pandas>=0.22.0 in /Applications/anaconda3/lib/python3.7/site-packages (from chefboost) (1.3.3)\n",
      "Requirement already satisfied: python-dateutil>=2.7.3 in /Applications/anaconda3/lib/python3.7/site-packages (from pandas>=0.22.0->chefboost) (2.8.2)\n",
      "Requirement already satisfied: pytz>=2017.3 in /Applications/anaconda3/lib/python3.7/site-packages (from pandas>=0.22.0->chefboost) (2021.3)\n",
      "Requirement already satisfied: six>=1.5 in /Applications/anaconda3/lib/python3.7/site-packages (from python-dateutil>=2.7.3->pandas>=0.22.0->chefboost) (1.16.0)\n"
     ]
    }
   ],
   "source": [
    "! pip install graphviz\n",
    "! pip install dl8.5\n",
    "! pip install chefboost"
   ]
  },
  {
   "cell_type": "code",
   "execution_count": 2,
   "id": "f72be916",
   "metadata": {},
   "outputs": [
    {
     "name": "stdout",
     "output_type": "stream",
     "text": [
      "Requirement already satisfied: graphviz in /Applications/anaconda3/lib/python3.7/site-packages (0.17)\r\n"
     ]
    }
   ],
   "source": [
    "import numpy as np\n",
    "import pandas as pd\n",
    "import matplotlib.pyplot as plt\n",
    "import time as t\n",
    "\n",
    "! pip install graphviz\n",
    "\n",
    "from IPython.display import SVG\n",
    "from graphviz import Source\n",
    "\n",
    "from sklearn import tree\n",
    "from sklearn.model_selection import KFold\n",
    "from sklearn.metrics import classification_report"
   ]
  },
  {
   "cell_type": "markdown",
   "id": "717d1b30",
   "metadata": {},
   "source": [
    "### Helper Functions"
   ]
  },
  {
   "cell_type": "code",
   "execution_count": 3,
   "id": "dcb96c55",
   "metadata": {},
   "outputs": [],
   "source": [
    "# ['No Urgent Place', 'Work', 'Home']\n",
    "# ['Partner', 'Alone', 'Kid(s)', 'Friend(s)']\n",
    "# ['Sunny', 'Rainy', 'Snowy']\n",
    "# ['6PM', '7AM', '2PM', '10PM', '10AM']\n",
    "# ['Bar', 'Restaurant(20-50)', 'Restaurant(<20)', 'Carry out & Take away', 'Coffee House']\n",
    "# ['1d', '2h']\n",
    "# ['Male', 'Female']\n",
    "# ['31', '26', '50plus', '41', '21', 'below21', '36', '46']\n",
    "# ['Married partner', 'Single', 'Unmarried partner', 'Divorced', 'Widowed']\n",
    "# ['Some college - no degree', 'Associates degree', 'Bachelors degree', 'Graduate degree (Masters or Doctorate)', 'High School Graduate', 'Some High School']\n",
    "# ['Construction & Extraction', 'Unemployed', 'Arts Design Entertainment Sports & Media', 'Food Preparation & Serving Related', 'Education&Training&Library', 'Sales & Related', 'Computer & Mathematical', 'Student', 'Architecture & Engineering', 'Business & Financial', 'Office & Administrative Support', 'Retired', 'Management', 'Life Physical Social Science', 'Healthcare Support', 'Building & Grounds Cleaning & Maintenance', 'Legal', 'Installation Maintenance & Repair', 'Protective Service', 'Healthcare Practitioners & Technical', 'Community & Social Services', 'Transportation & Material Moving', 'Personal Care & Service', 'Farming Fishing & Forestry', 'Production Occupations']\n",
    "# ['$100000 or More', '$62500 - $74999', '$37500 - $49999', '$12500 - $24999', '$25000 - $37499', '$75000 - $87499', '$50000 - $62499', '$87500 - $99999', 'Less than $12500']\n",
    "\n",
    "# Driving_to,Passanger,Weather,Time,Coupon,Coupon_validity,Gender,Age,Maritalstatus,Education,Occupation,Income\n",
    "\n",
    "translations = {\n",
    "    'Driving_to' : ['No Urgent Place', 'Home', 'Work'],\n",
    "    'Passanger' : ['Alone', 'Partner', 'Kid(s)', 'Friend(s)'],\n",
    "    'Weather' : ['Sunny', 'Rainy', 'Snowy'],\n",
    "    'Time' : ['7AM', '10AM', '2PM', '6PM', '10PM'],\n",
    "    'Coupon' : ['Restaurant(<20)', 'Restaurant(20-50)', 'Carry out & Take away', 'Bar', 'Coffee House'],\n",
    "    'Coupon_validity' : ['2h', '1d'],\n",
    "    'Gender' : ['Male', 'Female'],\n",
    "    'Age' : ['below21', '21', '26', '31', '36', '41', '46', '50plus'],\n",
    "    'Maritalstatus' : ['Single', 'Divorced', 'Widowed', 'Unmarried partner', 'Married partner'],\n",
    "    'Education' : ['Some High School', 'High School Graduate', 'Some college - no degree', 'Associates degree', 'Bachelors degree', 'Graduate degree (Masters or Doctorate)'],\n",
    "    'Occupation' : ['Unemployed', 'Construction & Extraction', 'Arts Design Entertainment Sports & Media', 'Food Preparation & Serving Related', 'Education&Training&Library', 'Sales & Related', 'Computer & Mathematical', 'Student', 'Architecture & Engineering', 'Business & Financial', 'Office & Administrative Support', 'Retired', 'Management', 'Life Physical Social Science', 'Healthcare Support', 'Building & Grounds Cleaning & Maintenance', 'Legal', 'Installation Maintenance & Repair', 'Protective Service', 'Healthcare Practitioners & Technical', 'Community & Social Services', 'Transportation & Material Moving', 'Personal Care & Service', 'Farming Fishing & Forestry', 'Production Occupations'],\n",
    "    'Income' : ['Less than $12500', '$12500 - $24999', '$25000 - $37499', '$37500 - $49999', '$50000 - $62499', '$62500 - $74999', '$75000 - $87499', '$87500 - $99999', '$100000 or More'],\n",
    "}\n",
    "\n",
    "def accuracy(y_actual, y_predicted):\n",
    "    if(not len(y_actual) == len(y_predicted)):\n",
    "        print(\"Lengths don't match\")\n",
    "        return 0\n",
    "    correct = 0\n",
    "    for i in range(len(y_actual)):\n",
    "        if y_actual[i] == y_predicted[i]:\n",
    "            correct += 1\n",
    "    return 1.0 * correct / len(y_actual)\n",
    "\n",
    "def clean_df(df):\n",
    "    for (field, vals) in df.iteritems():\n",
    "        for v_ind in vals.index:\n",
    "            if pd.isna(vals[v_ind]):\n",
    "                # NaN condition\n",
    "                df.at[v_ind, field] = 0\n",
    "        if field in translations:\n",
    "            strings = []\n",
    "            for s_ind in vals.index:\n",
    "                if vals[s_ind] not in translations[field]:\n",
    "                    # String that wasn't in training data\n",
    "                    df.at[s_ind, field] = 0\n",
    "                    continue\n",
    "                df.at[s_ind, field] = translations[field].index(vals[s_ind])\n",
    "    return df"
   ]
  },
  {
   "cell_type": "markdown",
   "id": "1af8ff64",
   "metadata": {},
   "source": [
    "### Data Importing and Processing"
   ]
  },
  {
   "cell_type": "code",
   "execution_count": 4,
   "id": "d7cdaaec",
   "metadata": {},
   "outputs": [],
   "source": [
    "start_time = t.time()\n",
    "df = pd.read_csv(\"../data/train.csv\")\n",
    "df_test = pd.read_csv(\"../data/test.csv\")\n",
    "\n",
    "# print(df)"
   ]
  },
  {
   "cell_type": "markdown",
   "id": "6a1cb59c",
   "metadata": {},
   "source": [
    "### Data Processing"
   ]
  },
  {
   "cell_type": "code",
   "execution_count": 5,
   "id": "b4620b69",
   "metadata": {},
   "outputs": [],
   "source": [
    "# Remove the id column\n",
    "\n",
    "df = df.loc[:, df.columns != 'id']\n",
    "df_test = df_test.loc[:, df_test.columns != 'id']\n",
    "\n",
    "# Make string values into numbers\n",
    "\n",
    "clean_df(df)\n",
    "clean_df(df_test)\n",
    "\n",
    "# Not 10 like normal since we already have a test partition\n",
    "num_folds = 9 \n",
    "\n",
    "cv_length = 1.0 * df.shape[0] / num_folds\n",
    "\n",
    "partitions = [df.iloc[int(i * cv_length):int((i+1) * cv_length),:] for i in range(num_folds)]\n",
    "# print([len(partitions[i]) for i in range(len(partitions))])\n"
   ]
  },
  {
   "cell_type": "markdown",
   "id": "f12f486a",
   "metadata": {},
   "source": [
    "### Model"
   ]
  },
  {
   "cell_type": "code",
   "execution_count": 6,
   "id": "a6d3b9cf",
   "metadata": {
    "scrolled": true
   },
   "outputs": [
    {
     "name": "stdout",
     "output_type": "stream",
     "text": [
      "For depth   1: Avg: 0.675960 | Min: 0.649867 | Max 0.688163\n",
      "For depth   2: Avg: 0.678513 | Min: 0.661362 | Max 0.690813\n",
      "For depth   3: Avg: 0.678710 | Min: 0.656941 | Max 0.687887\n",
      "For depth   4: Avg: 0.681949 | Min: 0.659593 | Max 0.696996\n",
      "For depth   5: Avg: 0.677630 | Min: 0.649867 | Max 0.691696\n",
      "For depth   6: Avg: 0.675666 | Min: 0.651636 | Max 0.685234\n",
      "For depth   7: Avg: 0.678416 | Min: 0.656057 | Max 0.690813\n",
      "For depth   8: Avg: 0.678317 | Min: 0.655172 | Max 0.689929\n",
      "For depth   9: Avg: 0.678513 | Min: 0.656057 | Max 0.691696\n",
      "For depth  10: Avg: 0.675666 | Min: 0.650752 | Max 0.691696\n",
      "For depth  11: Avg: 0.680380 | Min: 0.656941 | Max 0.692308\n",
      "For depth  12: Avg: 0.680672 | Min: 0.647215 | Max 0.695230\n",
      "For depth  13: Avg: 0.678023 | Min: 0.657825 | Max 0.694076\n",
      "For depth  14: Avg: 0.679594 | Min: 0.652520 | Max 0.692580\n",
      "For depth  15: Avg: 0.678710 | Min: 0.656057 | Max 0.690813\n",
      "For depth  16: Avg: 0.677826 | Min: 0.648983 | Max 0.695230\n",
      "For depth  17: Avg: 0.677727 | Min: 0.651636 | Max 0.687003\n",
      "For depth  18: Avg: 0.677139 | Min: 0.654288 | Max 0.689929\n",
      "For depth  19: Avg: 0.678906 | Min: 0.653404 | Max 0.694346\n",
      "For depth  20: Avg: 0.679200 | Min: 0.652520 | Max 0.696996\n",
      "For depth  21: Avg: 0.678416 | Min: 0.656057 | Max 0.689046\n",
      "For depth  22: Avg: 0.677532 | Min: 0.656057 | Max 0.687279\n",
      "For depth  23: Avg: 0.679200 | Min: 0.653404 | Max 0.692580\n",
      "For depth  24: Avg: 0.676452 | Min: 0.656057 | Max 0.692580\n",
      "For depth  25: Avg: 0.680477 | Min: 0.657825 | Max 0.695844\n",
      "For depth  26: Avg: 0.677138 | Min: 0.650752 | Max 0.691696\n",
      "For depth  27: Avg: 0.675175 | Min: 0.647215 | Max 0.685512\n",
      "For depth  28: Avg: 0.679004 | Min: 0.651636 | Max 0.696113\n",
      "For depth  29: Avg: 0.679888 | Min: 0.659593 | Max 0.694346\n",
      "For depth  30: Avg: 0.679788 | Min: 0.658709 | Max 0.696113\n",
      "For depth  31: Avg: 0.679691 | Min: 0.656057 | Max 0.694960\n",
      "For depth  32: Avg: 0.679003 | Min: 0.653404 | Max 0.693463\n",
      "For depth  33: Avg: 0.679397 | Min: 0.652520 | Max 0.691696\n",
      "For depth  34: Avg: 0.679200 | Min: 0.654288 | Max 0.695230\n",
      "For depth  35: Avg: 0.682147 | Min: 0.659593 | Max 0.694960\n",
      "For depth  36: Avg: 0.679004 | Min: 0.657825 | Max 0.698763\n",
      "For depth  37: Avg: 0.676058 | Min: 0.653404 | Max 0.687279\n",
      "For depth  38: Avg: 0.678416 | Min: 0.665782 | Max 0.688163\n",
      "For depth  39: Avg: 0.680084 | Min: 0.656941 | Max 0.691696\n",
      "For depth  40: Avg: 0.673800 | Min: 0.653404 | Max 0.689046\n",
      "For depth  41: Avg: 0.678807 | Min: 0.646331 | Max 0.696113\n",
      "For depth  42: Avg: 0.679987 | Min: 0.656057 | Max 0.694960\n",
      "For depth  43: Avg: 0.680968 | Min: 0.659593 | Max 0.691696\n",
      "For depth  44: Avg: 0.678808 | Min: 0.656941 | Max 0.689929\n",
      "For depth  45: Avg: 0.679495 | Min: 0.659593 | Max 0.689655\n",
      "For depth  46: Avg: 0.680478 | Min: 0.648099 | Max 0.702918\n",
      "For depth  47: Avg: 0.675666 | Min: 0.658709 | Max 0.687003\n",
      "For depth  48: Avg: 0.676451 | Min: 0.649867 | Max 0.691696\n",
      "For depth  49: Avg: 0.681359 | Min: 0.648983 | Max 0.696113\n",
      "Optimal max tree depth: 35\n"
     ]
    }
   ],
   "source": [
    "# Rotate the folds to tune the parameters\n",
    "\n",
    "results = []\n",
    "max_tree_depths = range(1, 50)\n",
    "\n",
    "for i in range(num_folds):\n",
    "    validation = partitions[i]\n",
    "    training = pd.concat([j for j in partitions if not j.equals(validation)])\n",
    "    \n",
    "    y_train = training['Decision']\n",
    "    X_train = training.loc[:, df.columns != 'Decision']\n",
    "    \n",
    "    y_valid = validation['Decision']\n",
    "    X_valid = validation.loc[:, df.columns != 'Decision']\n",
    "    \n",
    "    results_for_fold = []\n",
    "    \n",
    "    for d in max_tree_depths:\n",
    "        clf = tree.DecisionTreeClassifier()\n",
    "        clf.criterion = 'entropy'\n",
    "        clf.max_tree_depth = d\n",
    "        clf.fit(X_train, y_train)\n",
    "#         print(\"Prediction\", clf.predict(X_valid))\n",
    "#         print(\"Actual\", np.array(y_valid))\n",
    "        a = accuracy(np.array(y_valid), clf.predict(X_valid))\n",
    "        results_for_fold += [a]\n",
    "#         print(\"Accuracy for depth {:} in fold {:} is {:}\".format(d, i, a))\n",
    "    \n",
    "    results += [results_for_fold]\n",
    "\n",
    "# print(results)\n",
    "\n",
    "results_for_d = np.array(results).T\n",
    "\n",
    "# print(results_for_d)\n",
    "\n",
    "min_acc = []\n",
    "max_acc = []\n",
    "avg_acc = []\n",
    "\n",
    "for ind_d in range(len(max_tree_depths)):\n",
    "    min_acc += [np.min(results_for_d[ind_d])]\n",
    "    max_acc += [np.max(results_for_d[ind_d])]\n",
    "    avg_acc += [np.mean(results_for_d[ind_d])]\n",
    "    print(\"For depth {:3d}: Avg: {:4f} | Min: {:4f} | Max {:4f}\".format(max_tree_depths[ind_d], avg_acc[ind_d], min_acc[ind_d], max_acc[ind_d]))\n",
    "        \n",
    "optimal_depth = max_tree_depths[avg_acc.index(np.max(avg_acc))]\n",
    "print(\"Optimal max tree depth:\", optimal_depth)\n"
   ]
  },
  {
   "cell_type": "markdown",
   "id": "422c07d5",
   "metadata": {},
   "source": [
    "### Visualization"
   ]
  },
  {
   "cell_type": "code",
   "execution_count": 10,
   "id": "fd72d291",
   "metadata": {},
   "outputs": [
    {
     "data": {
      "image/png": "[encoded data removed]",
      "text/plain": [
       "<Figure size 432x288 with 1 Axes>"
      ]
     },
     "metadata": {
      "needs_background": "light"
     },
     "output_type": "display_data"
    }
   ],
   "source": [
    "plt.plot(max_tree_depths, avg_acc)\n",
    "plt.title(\"Max Tree Depth v Average Accuracy\")\n",
    "plt.xlabel(\"Max Tree Depth\")\n",
    "plt.ylabel(\"Average Accuracy over Folds\")\n",
    "plt.savefig('decision_tree.png')\n",
    "plt.show()"
   ]
  },
  {
   "cell_type": "markdown",
   "id": "1ef40748",
   "metadata": {},
   "source": [
    "### Test"
   ]
  },
  {
   "cell_type": "code",
   "execution_count": 8,
   "id": "9b7e1ad6",
   "metadata": {},
   "outputs": [
    {
     "name": "stdout",
     "output_type": "stream",
     "text": [
      "Runtime is 21.359911918640137 seconds\n"
     ]
    }
   ],
   "source": [
    "X_test = df_test.loc[:, df_test.columns != 'Decision']\n",
    "\n",
    "y_train = df['Decision']\n",
    "X_train = df.loc[:, df.columns != 'Decision']\n",
    "\n",
    "clf = tree.DecisionTreeClassifier()\n",
    "clf.criterion = 'entropy'\n",
    "clf.max_tree_depth = optimal_depth\n",
    "\n",
    "clf.fit(X_train, y_train)\n",
    "results = clf.predict(X_test)\n",
    "print(\"Runtime is {:} seconds\".format(t.time() - start_time))"
   ]
  },
  {
   "cell_type": "markdown",
   "id": "a5952e29",
   "metadata": {},
   "source": [
    "### Format for Output"
   ]
  },
  {
   "cell_type": "code",
   "execution_count": 9,
   "id": "88340553",
   "metadata": {},
   "outputs": [
    {
     "name": "stdout",
     "output_type": "stream",
     "text": [
      "        id  Decision\n",
      "0        1         0\n",
      "1        2         1\n",
      "2        3         0\n",
      "3        4         1\n",
      "4        5         1\n",
      "...    ...       ...\n",
      "2495  2496         0\n",
      "2496  2497         0\n",
      "2497  2498         1\n",
      "2498  2499         1\n",
      "2499  2500         0\n",
      "\n",
      "[2500 rows x 2 columns]\n"
     ]
    }
   ],
   "source": [
    "df_test['Decision'] = results\n",
    "df_test['id'] = range(1, df_test.shape[0] + 1)\n",
    "df_test = df_test[['id', 'Decision']]\n",
    "print(df_test)\n",
    "\n",
    "df_test.to_csv(r\"../data/decision_tree_results.csv\", index = False)"
   ]
  },
  {
   "cell_type": "code",
   "execution_count": null,
   "id": "e78f847c",
   "metadata": {},
   "outputs": [],
   "source": []
  }
 ],
 "metadata": {
  "kernelspec": {
   "display_name": "Python 3 (ipykernel)",
   "language": "python",
   "name": "python3"
  },
  "language_info": {
   "codemirror_mode": {
    "name": "ipython",
    "version": 3
   },
   "file_extension": ".py",
   "mimetype": "text/x-python",
   "name": "python",
   "nbconvert_exporter": "python",
   "pygments_lexer": "ipython3",
   "version": "3.7.4"
  }
 },
 "nbformat": 4,
 "nbformat_minor": 5
}
